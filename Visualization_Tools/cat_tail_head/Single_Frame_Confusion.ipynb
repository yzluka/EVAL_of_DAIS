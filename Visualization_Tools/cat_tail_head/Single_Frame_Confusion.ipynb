{
 "cells": [
  {
   "cell_type": "code",
   "execution_count": 1,
   "metadata": {},
   "outputs": [],
   "source": [
    "f = open('SVM_cfm_.sprf.txt','r')\n",
    "raw =[]\n",
    "for line in f.readlines():\n",
    "    raw.append(line);"
   ]
  },
  {
   "cell_type": "code",
   "execution_count": 12,
   "metadata": {},
   "outputs": [
    {
     "name": "stdout",
     "output_type": "stream",
     "text": [
      "[[143.           0.           0.        ]\n",
      " [  0.         138.30866121   4.64901268]\n",
      " [  0.           0.         142.87012167]]\n"
     ]
    }
   ],
   "source": [
    "import numpy as np\n",
    "n=3\n",
    "summation = np.zeros([n,n])\n",
    "for line in raw[300:]:\n",
    "    arr = np.array(line.split(),dtype=float).reshape(n,n)\n",
    "    if (arr-np.diag(np.diag(arr))).sum() >= 1:\n",
    "        summation += arr/np.max(arr)\n",
    "    \n",
    "print(summation)"
   ]
  },
  {
   "cell_type": "code",
   "execution_count": 13,
   "metadata": {},
   "outputs": [],
   "source": [
    "data=summation/summation.max()"
   ]
  },
  {
   "cell_type": "code",
   "execution_count": 14,
   "metadata": {},
   "outputs": [
    {
     "data": {
      "image/png": "[encoded data removed]",
      "text/plain": [
       "<Figure size 288x288 with 2 Axes>"
      ]
     },
     "metadata": {
      "needs_background": "light"
     },
     "output_type": "display_data"
    }
   ],
   "source": [
    "import matplotlib.pyplot as plt\n",
    "def plot_confusion_matrix(df_confusion, title='Confusion matrix', cmap='gray'):\n",
    "    plt.matshow(df_confusion, cmap=cmap) # imshow\n",
    "    #plt.title(title)\n",
    "    plt.colorbar()\n",
    "    tick_marks = ['cat','tail','head']\n",
    "    plt.xticks(range(n),tick_marks)\n",
    "    plt.yticks(range(n),tick_marks)\n",
    "    #plt.tight_layout()\n",
    "    plt.ylabel('Label')\n",
    "    plt.xlabel('Prediction')\n",
    "\n",
    "plot_confusion_matrix(data)"
   ]
  }
 ],
 "metadata": {
  "kernelspec": {
   "display_name": "Python 3",
   "language": "python",
   "name": "python3"
  },
  "language_info": {
   "codemirror_mode": {
    "name": "ipython",
    "version": 3
   },
   "file_extension": ".py",
   "mimetype": "text/x-python",
   "name": "python",
   "nbconvert_exporter": "python",
   "pygments_lexer": "ipython3",
   "version": "3.7.3"
  }
 },
 "nbformat": 4,
 "nbformat_minor": 2
}
