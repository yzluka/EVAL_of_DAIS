{
 "cells": [
  {
   "cell_type": "code",
   "execution_count": 1,
   "metadata": {},
   "outputs": [],
   "source": [
    "f = open('SVM_cfm_.sprf.txt','r')\n",
    "raw =[]\n",
    "for line in f.readlines():\n",
    "    raw.append(line);"
   ]
  },
  {
   "cell_type": "code",
   "execution_count": 2,
   "metadata": {},
   "outputs": [
    {
     "name": "stdout",
     "output_type": "stream",
     "text": [
      "[[177.          88.         178.        ]\n",
      " [177.          87.41575111 178.        ]\n",
      " [177.          87.41575111 176.60405241]]\n"
     ]
    }
   ],
   "source": [
    "import numpy as np\n",
    "summation = np.zeros([3,3])\n",
    "for line in raw:\n",
    "    arr = np.array(line.split(),dtype=float).reshape(3,3)\n",
    "    if (arr-np.diag(np.diag(arr))).sum() >= 1:\n",
    "        summation += arr/np.max(arr)\n",
    "    \n",
    "print(summation)"
   ]
  },
  {
   "cell_type": "code",
   "execution_count": 3,
   "metadata": {},
   "outputs": [],
   "source": [
    "data=summation/summation.max()"
   ]
  },
  {
   "cell_type": "code",
   "execution_count": 6,
   "metadata": {},
   "outputs": [
    {
     "data": {
      "text/plain": [
       "array([[0.99438202, 0.49438202, 1.        ],\n",
       "       [0.99438202, 0.49109973, 1.        ],\n",
       "       [0.99438202, 0.49109973, 0.9921576 ]])"
      ]
     },
     "execution_count": 6,
     "metadata": {},
     "output_type": "execute_result"
    }
   ],
   "source": [
    "data"
   ]
  },
  {
   "cell_type": "code",
   "execution_count": 8,
   "metadata": {},
   "outputs": [
    {
     "data": {
      "image/png": "[encoded data removed]",
      "text/plain": [
       "<Figure size 288x288 with 2 Axes>"
      ]
     },
     "metadata": {
      "needs_background": "light"
     },
     "output_type": "display_data"
    }
   ],
   "source": [
    "import matplotlib.pyplot as plt\n",
    "def plot_confusion_matrix(df_confusion, title='Confusion matrix', cmap='gray'):\n",
    "    plt.matshow(df_confusion, cmap=cmap) # imshow\n",
    "    #plt.title(title)\n",
    "    plt.colorbar()\n",
    "    tick_marks = ['md5','sha224','sha256']\n",
    "    plt.ylim(0,1)\n",
    "    plt.xticks(range(3),tick_marks)\n",
    "    plt.yticks(range(3),tick_marks)\n",
    "    \n",
    "    #plt.tight_layout()\n",
    "    plt.ylabel('Label')\n",
    "    plt.xlabel('Prediction')\n",
    "\n",
    "plot_confusion_matrix(data)"
   ]
  }
 ],
 "metadata": {
  "kernelspec": {
   "display_name": "Python 3",
   "language": "python",
   "name": "python3"
  },
  "language_info": {
   "codemirror_mode": {
    "name": "ipython",
    "version": 3
   },
   "file_extension": ".py",
   "mimetype": "text/x-python",
   "name": "python",
   "nbconvert_exporter": "python",
   "pygments_lexer": "ipython3",
   "version": "3.7.3"
  }
 },
 "nbformat": 4,
 "nbformat_minor": 2
}
